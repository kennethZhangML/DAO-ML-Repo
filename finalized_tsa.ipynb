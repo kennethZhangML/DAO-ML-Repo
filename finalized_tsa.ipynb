{
 "cells": [
  {
   "cell_type": "code",
   "execution_count": 1,
   "metadata": {},
   "outputs": [
    {
     "data": {
      "text/html": [
       "<div>\n",
       "<style scoped>\n",
       "    .dataframe tbody tr th:only-of-type {\n",
       "        vertical-align: middle;\n",
       "    }\n",
       "\n",
       "    .dataframe tbody tr th {\n",
       "        vertical-align: top;\n",
       "    }\n",
       "\n",
       "    .dataframe thead th {\n",
       "        text-align: right;\n",
       "    }\n",
       "</style>\n",
       "<table border=\"1\" class=\"dataframe\">\n",
       "  <thead>\n",
       "    <tr style=\"text-align: right;\">\n",
       "      <th></th>\n",
       "      <th>open</th>\n",
       "      <th>high</th>\n",
       "      <th>low</th>\n",
       "      <th>close</th>\n",
       "      <th>Volume 1INCH</th>\n",
       "      <th>Volume USD</th>\n",
       "    </tr>\n",
       "    <tr>\n",
       "      <th>date</th>\n",
       "      <th></th>\n",
       "      <th></th>\n",
       "      <th></th>\n",
       "      <th></th>\n",
       "      <th></th>\n",
       "      <th></th>\n",
       "    </tr>\n",
       "  </thead>\n",
       "  <tbody>\n",
       "    <tr>\n",
       "      <th>2022-04-27 00:00:00</th>\n",
       "      <td>1.2871</td>\n",
       "      <td>1.2932</td>\n",
       "      <td>1.2865</td>\n",
       "      <td>1.2888</td>\n",
       "      <td>428.840257</td>\n",
       "      <td>552.689323</td>\n",
       "    </tr>\n",
       "    <tr>\n",
       "      <th>2022-04-26 23:00:00</th>\n",
       "      <td>1.2968</td>\n",
       "      <td>1.2970</td>\n",
       "      <td>1.2589</td>\n",
       "      <td>1.2871</td>\n",
       "      <td>1189.529669</td>\n",
       "      <td>1531.043637</td>\n",
       "    </tr>\n",
       "    <tr>\n",
       "      <th>2022-04-26 22:00:00</th>\n",
       "      <td>1.3093</td>\n",
       "      <td>1.3124</td>\n",
       "      <td>1.2961</td>\n",
       "      <td>1.2968</td>\n",
       "      <td>1281.291941</td>\n",
       "      <td>1661.579389</td>\n",
       "    </tr>\n",
       "    <tr>\n",
       "      <th>2022-04-26 21:00:00</th>\n",
       "      <td>1.2981</td>\n",
       "      <td>1.3116</td>\n",
       "      <td>1.2959</td>\n",
       "      <td>1.3093</td>\n",
       "      <td>2868.856831</td>\n",
       "      <td>3756.194249</td>\n",
       "    </tr>\n",
       "    <tr>\n",
       "      <th>2022-04-26 20:00:00</th>\n",
       "      <td>1.3053</td>\n",
       "      <td>1.3095</td>\n",
       "      <td>1.2900</td>\n",
       "      <td>1.2981</td>\n",
       "      <td>2084.128819</td>\n",
       "      <td>2705.407620</td>\n",
       "    </tr>\n",
       "  </tbody>\n",
       "</table>\n",
       "</div>"
      ],
      "text/plain": [
       "                       open    high     low   close  Volume 1INCH   Volume USD\n",
       "date                                                                          \n",
       "2022-04-27 00:00:00  1.2871  1.2932  1.2865  1.2888    428.840257   552.689323\n",
       "2022-04-26 23:00:00  1.2968  1.2970  1.2589  1.2871   1189.529669  1531.043637\n",
       "2022-04-26 22:00:00  1.3093  1.3124  1.2961  1.2968   1281.291941  1661.579389\n",
       "2022-04-26 21:00:00  1.2981  1.3116  1.2959  1.3093   2868.856831  3756.194249\n",
       "2022-04-26 20:00:00  1.3053  1.3095  1.2900  1.2981   2084.128819  2705.407620"
      ]
     },
     "execution_count": 1,
     "metadata": {},
     "output_type": "execute_result"
    }
   ],
   "source": [
    "import tensorflow as tf\n",
    "import matplotlib.pyplot as plt\n",
    "import pandas as pd\n",
    "import numpy as np\n",
    "import math\n",
    "\n",
    "from sklearn.preprocessing import MinMaxScaler\n",
    "from tensorflow.keras.models import Sequential\n",
    "from tensorflow.keras.layers import Dense, LSTM, Dropout, GRU, Bidirectional\n",
    "from tensorflow.keras.optimizers import SGD\n",
    "from sklearn.metrics import mean_squared_error\n",
    "\n",
    "#Load the Dataset (Set the index column to the date column)\n",
    "df = pd.read_csv(\"Gemini_1INCHUSD_1h.csv\", parse_dates = True, index_col = ['date'])\n",
    "df = df[['open', 'high', 'low', 'close', 'Volume 1INCH', 'Volume USD']]\n",
    "\n",
    "#Get the first 5 rows of the dataset\n",
    "df.head(n=5)"
   ]
  },
  {
   "cell_type": "code",
   "execution_count": 2,
   "metadata": {},
   "outputs": [],
   "source": [
    "'''\n",
    "Two Modes of Pre-processing: Training split and Forecasting Split\n",
    "-> Traditional methods of splitting time series data, such using a for-loop or train_test_split method\n",
    "are all methods that are used for training preprocessing, rather than forecasting preprocessing\n",
    "-> In order for us to properly implement a LSTM/GRU that forecasts into the future, we must define the outputs as y[t: t + h], \n",
    "where y is the time series and h is the length of the forecasting period. (also meaning we must set the output layer = h).\n",
    "Therefore the inputs would be y[t - Z: t] where Z is the length of the lookback period/# of timesteps \n",
    "-> Let's implement both methods method\n",
    "'''\n",
    "\n",
    "from sklearn.preprocessing import MinMaxScaler\n",
    "\n",
    "#Define a Test Size\n",
    "test_size = int(0.8 * len(df)) #80% for the training, 20% testing\n",
    "\n",
    "#Split the data into Training and Testing\n",
    "train = df.iloc[:test_size]\n",
    "test = df.iloc[test_size:]\n",
    "\n",
    "#Scale the Data using the MinMaxScaler (Transforms the features by giving each feature a value between a given range)\n",
    "mms_scaler = MinMaxScaler(feature_range = (0,1))\n",
    "train_scaled = mms_scaler.fit_transform(train)\n",
    "test_scaled = mms_scaler.fit_transform(test)\n",
    "\n",
    "'''\n",
    "For training splits, since LSTMs are long short term memory states, \n",
    "we must create a data structure with 60 timesteps and 1 output\n",
    "-> basically, for each element of a training set we will have 60 previous training elements\n",
    "'''\n",
    "def training_split(df_scaled, steps):\n",
    "    X_train, y_train = [], [] \n",
    "    for i in range(steps, df_scaled.shape[0] - steps):\n",
    "        X_train.append(df_scaled[i - steps:i, :]) #Training split for Timesteps\n",
    "        y_train.append(df_scaled[i, :]) #Training Split for \n",
    "    X_train, y_train = np.array(X_train), np.array(y_train)\n",
    "    return X_train, y_train"
   ]
  },
  {
   "cell_type": "code",
   "execution_count": 3,
   "metadata": {},
   "outputs": [],
   "source": [
    "'''\n",
    "For forecast splits, using a similar concept as the training split,\n",
    "however we must define the set the outputs equal to i + n_forecast so that it forecasts into the future \n",
    "rather on the validation data that is given.\n",
    "The input data must be i - n_lookback so it is able to forecast a specified number of periods based off of\n",
    "a lookback periods defined in the splitting method.\n",
    "'''\n",
    "def forecasting_split(y, n_lookback, n_forecast):\n",
    "    X_train, y_train = [], []\n",
    "    for i in range(n_lookback, len(y) - n_forecast + 1):\n",
    "        X_train.append(y[i - n_lookback:i])\n",
    "        y_train.append(y[i: i + n_forecast])\n",
    "    X_train, y_train = np.array(X_train), np.array(y_train)\n",
    "    return X_train, y_train"
   ]
  },
  {
   "cell_type": "code",
   "execution_count": 4,
   "metadata": {},
   "outputs": [
    {
     "name": "stdout",
     "output_type": "stream",
     "text": [
      "Train Split Shapes:  (1452, 60, 6) (1452, 6) (273, 60, 6) (273, 6)\n",
      "Forecasting Split Shapes:  (1876, 60, 1) (1876, 30, 1) (1876, 60, 1) (1876, 30, 1)\n"
     ]
    }
   ],
   "source": [
    "#60 timesteps per output\n",
    "X_traint, y_traint = training_split(train_scaled, 60)\n",
    "X_testt, y_testt = training_split(test_scaled, 60)\n",
    "print(\"Train Split Shapes: \", X_traint.shape, y_traint.shape, X_testt.shape, y_testt.shape)\n",
    "\n",
    "#Forecast 30 days into the future given a lookback period of 60\n",
    "y = df['Volume USD'].to_numpy().reshape(-1, 1)\n",
    "scaler = MinMaxScaler(feature_range=(0, 1))\n",
    "scaler = scaler.fit(y)\n",
    "y = scaler.transform(y)\n",
    "\n",
    "X_trainf, y_trainf = forecasting_split(y, 60, 30)\n",
    "X_testf, y_testf = forecasting_split(y, 60, 30)\n",
    "print(\"Forecasting Split Shapes: \", X_trainf.shape, y_trainf.shape, X_testf.shape, y_testf.shape)"
   ]
  },
  {
   "cell_type": "code",
   "execution_count": 5,
   "metadata": {},
   "outputs": [],
   "source": [
    "'''\n",
    "Training Model on X_traint -> via training split\n",
    "'''\n",
    "model_tm = tf.keras.models.Sequential([\n",
    "    tf.keras.layers.LSTM(50, return_sequences = True, input_shape = (X_traint.shape[1], 6)), #input shape contains the 2nd values for the shape of the training data\n",
    "    tf.keras.layers.Dropout(0.2),\n",
    "    tf.keras.layers.LSTM(50, return_sequences = True),\n",
    "    tf.keras.layers.Dropout(0.2),\n",
    "    tf.keras.layers.LSTM(50, return_sequences = True),\n",
    "    tf.keras.layers.Dropout(0.2),\n",
    "    tf.keras.layers.LSTM(50),\n",
    "    tf.keras.layers.Dropout(0.2), \n",
    "    tf.keras.layers.Dense(6)]) #Output shape equals number of columns in df\n",
    "\n",
    "'''\n",
    "Training Model on X_trainf -> via forecasting split\n",
    "'''\n",
    "n_lookback, n_forecast = 60, 30\n",
    "model_fm = tf.keras.models.Sequential([\n",
    "    tf.keras.layers.LSTM(50, return_sequences = True, input_shape = (n_lookback, 1)), #input shape contains the 2nd values for the shape of the training data\n",
    "    tf.keras.layers.Dropout(0.2),\n",
    "    tf.keras.layers.LSTM(50, return_sequences = True),\n",
    "    tf.keras.layers.Dropout(0.2),\n",
    "    tf.keras.layers.LSTM(50, return_sequences = True),\n",
    "    tf.keras.layers.Dropout(0.2),\n",
    "    tf.keras.layers.LSTM(50),\n",
    "    tf.keras.layers.Dropout(0.2), \n",
    "    tf.keras.layers.Dense(n_forecast)\n",
    "])"
   ]
  },
  {
   "cell_type": "code",
   "execution_count": 6,
   "metadata": {},
   "outputs": [
    {
     "name": "stdout",
     "output_type": "stream",
     "text": [
      "Epoch 1/50\n",
      "46/46 [==============================] - 9s 62ms/step - loss: 0.0490\n",
      "Epoch 2/50\n",
      "46/46 [==============================] - 3s 61ms/step - loss: 0.0104\n",
      "Epoch 3/50\n",
      "46/46 [==============================] - 3s 64ms/step - loss: 0.0066\n",
      "Epoch 4/50\n",
      "46/46 [==============================] - 3s 66ms/step - loss: 0.0061\n",
      "Epoch 5/50\n",
      "46/46 [==============================] - 3s 63ms/step - loss: 0.0063\n",
      "Epoch 6/50\n",
      "46/46 [==============================] - 3s 62ms/step - loss: 0.0058\n",
      "Epoch 7/50\n",
      "46/46 [==============================] - 3s 72ms/step - loss: 0.0051\n",
      "Epoch 8/50\n",
      "46/46 [==============================] - 3s 71ms/step - loss: 0.0049\n",
      "Epoch 9/50\n",
      "46/46 [==============================] - 3s 73ms/step - loss: 0.0038\n",
      "Epoch 10/50\n",
      "46/46 [==============================] - 3s 67ms/step - loss: 0.0043\n",
      "Epoch 11/50\n",
      "46/46 [==============================] - 3s 67ms/step - loss: 0.0038\n",
      "Epoch 12/50\n",
      "46/46 [==============================] - 3s 68ms/step - loss: 0.0037\n",
      "Epoch 13/50\n",
      "46/46 [==============================] - 3s 63ms/step - loss: 0.0037\n",
      "Epoch 14/50\n",
      "46/46 [==============================] - 3s 66ms/step - loss: 0.0041\n",
      "Epoch 15/50\n",
      "46/46 [==============================] - 3s 74ms/step - loss: 0.0041\n",
      "Epoch 16/50\n",
      "46/46 [==============================] - 3s 72ms/step - loss: 0.0037\n",
      "Epoch 17/50\n",
      "46/46 [==============================] - 3s 67ms/step - loss: 0.0032\n",
      "Epoch 18/50\n",
      "46/46 [==============================] - 3s 73ms/step - loss: 0.0030\n",
      "Epoch 19/50\n",
      "46/46 [==============================] - 3s 73ms/step - loss: 0.0030\n",
      "Epoch 20/50\n",
      "46/46 [==============================] - 3s 68ms/step - loss: 0.0032: 1s - - ETA: 0s - loss:\n",
      "Epoch 21/50\n",
      "46/46 [==============================] - 3s 65ms/step - loss: 0.0030\n",
      "Epoch 22/50\n",
      "46/46 [==============================] - 3s 69ms/step - loss: 0.0031\n",
      "Epoch 23/50\n",
      "46/46 [==============================] - 3s 75ms/step - loss: 0.0029\n",
      "Epoch 24/50\n",
      "46/46 [==============================] - 3s 71ms/step - loss: 0.0030\n",
      "Epoch 25/50\n",
      "46/46 [==============================] - 3s 71ms/step - loss: 0.0034\n",
      "Epoch 26/50\n",
      "46/46 [==============================] - 3s 68ms/step - loss: 0.0029\n",
      "Epoch 27/50\n",
      "46/46 [==============================] - 3s 71ms/step - loss: 0.0030\n",
      "Epoch 28/50\n",
      "46/46 [==============================] - 3s 73ms/step - loss: 0.0025\n",
      "Epoch 29/50\n",
      "46/46 [==============================] - 3s 72ms/step - loss: 0.0027\n",
      "Epoch 30/50\n",
      "46/46 [==============================] - 3s 72ms/step - loss: 0.0023\n",
      "Epoch 31/50\n",
      "46/46 [==============================] - 3s 68ms/step - loss: 0.0023\n",
      "Epoch 32/50\n",
      "46/46 [==============================] - 3s 72ms/step - loss: 0.0022\n",
      "Epoch 33/50\n",
      "46/46 [==============================] - 3s 73ms/step - loss: 0.0022\n",
      "Epoch 34/50\n",
      "46/46 [==============================] - 3s 70ms/step - loss: 0.0024\n",
      "Epoch 35/50\n",
      "46/46 [==============================] - 3s 70ms/step - loss: 0.0022\n",
      "Epoch 36/50\n",
      "46/46 [==============================] - 3s 70ms/step - loss: 0.0023\n",
      "Epoch 37/50\n",
      "46/46 [==============================] - 3s 72ms/step - loss: 0.0027\n",
      "Epoch 38/50\n",
      "46/46 [==============================] - 3s 69ms/step - loss: 0.0023\n",
      "Epoch 39/50\n",
      "46/46 [==============================] - 3s 69ms/step - loss: 0.0023\n",
      "Epoch 40/50\n",
      "46/46 [==============================] - 3s 68ms/step - loss: 0.0021\n",
      "Epoch 41/50\n",
      "46/46 [==============================] - 3s 72ms/step - loss: 0.0021\n",
      "Epoch 42/50\n",
      "46/46 [==============================] - 3s 68ms/step - loss: 0.0020\n",
      "Epoch 43/50\n",
      "46/46 [==============================] - 3s 66ms/step - loss: 0.0025: \n",
      "Epoch 44/50\n",
      "46/46 [==============================] - 3s 66ms/step - loss: 0.0024\n",
      "Epoch 45/50\n",
      "46/46 [==============================] - 3s 65ms/step - loss: 0.0021\n",
      "Epoch 46/50\n",
      "46/46 [==============================] - 3s 66ms/step - loss: 0.0019\n",
      "Epoch 47/50\n",
      "46/46 [==============================] - 3s 67ms/step - loss: 0.0023:\n",
      "Epoch 48/50\n",
      "46/46 [==============================] - 3s 67ms/step - loss: 0.0020\n",
      "Epoch 49/50\n",
      "46/46 [==============================] - 3s 69ms/step - loss: 0.0020\n",
      "Epoch 50/50\n",
      "46/46 [==============================] - 3s 67ms/step - loss: 0.0019: 0s - loss: - ETA: 0s - loss: 0.00\n"
     ]
    },
    {
     "data": {
      "text/plain": [
       "<tensorflow.python.keras.callbacks.History at 0x19d0c565e50>"
      ]
     },
     "execution_count": 6,
     "metadata": {},
     "output_type": "execute_result"
    }
   ],
   "source": [
    "model_tm.compile(loss = 'mse', optimizer = 'adam')\n",
    "model_tm.fit(X_traint, y_traint, epochs = 50, batch_size = 32)"
   ]
  },
  {
   "cell_type": "code",
   "execution_count": 7,
   "metadata": {},
   "outputs": [
    {
     "name": "stdout",
     "output_type": "stream",
     "text": [
      "Epoch 1/50\n",
      "59/59 [==============================] - 9s 62ms/step - loss: 0.0032\n",
      "Epoch 2/50\n",
      "59/59 [==============================] - 4s 60ms/step - loss: 0.0029\n",
      "Epoch 3/50\n",
      "59/59 [==============================] - 4s 61ms/step - loss: 0.0029\n",
      "Epoch 4/50\n",
      "59/59 [==============================] - 4s 61ms/step - loss: 0.0030\n",
      "Epoch 5/50\n",
      "59/59 [==============================] - 4s 63ms/step - loss: 0.0030\n",
      "Epoch 6/50\n",
      "59/59 [==============================] - 4s 66ms/step - loss: 0.0029\n",
      "Epoch 7/50\n",
      "59/59 [==============================] - 4s 67ms/step - loss: 0.0027\n",
      "Epoch 8/50\n",
      "59/59 [==============================] - 4s 64ms/step - loss: 0.0028\n",
      "Epoch 9/50\n",
      "59/59 [==============================] - 4s 61ms/step - loss: 0.0029\n",
      "Epoch 10/50\n",
      "59/59 [==============================] - 4s 61ms/step - loss: 0.0028\n",
      "Epoch 11/50\n",
      "59/59 [==============================] - 4s 66ms/step - loss: 0.0028\n",
      "Epoch 12/50\n",
      "59/59 [==============================] - 4s 71ms/step - loss: 0.0028\n",
      "Epoch 13/50\n",
      "59/59 [==============================] - 4s 66ms/step - loss: 0.0030: 0s - loss: 0.0\n",
      "Epoch 14/50\n",
      "59/59 [==============================] - 4s 63ms/step - loss: 0.0030\n",
      "Epoch 15/50\n",
      "59/59 [==============================] - 4s 60ms/step - loss: 0.0029\n",
      "Epoch 16/50\n",
      "59/59 [==============================] - 4s 62ms/step - loss: 0.0030\n",
      "Epoch 17/50\n",
      "59/59 [==============================] - 4s 61ms/step - loss: 0.0029\n",
      "Epoch 18/50\n",
      "59/59 [==============================] - 4s 71ms/step - loss: 0.0029\n",
      "Epoch 19/50\n",
      "59/59 [==============================] - 4s 62ms/step - loss: 0.0028\n",
      "Epoch 20/50\n",
      "59/59 [==============================] - 4s 65ms/step - loss: 0.0028TA: 0s - lo\n",
      "Epoch 21/50\n",
      "59/59 [==============================] - 4s 62ms/step - loss: 0.0028\n",
      "Epoch 22/50\n",
      "59/59 [==============================] - 4s 69ms/step - loss: 0.0028\n",
      "Epoch 23/50\n",
      "59/59 [==============================] - 4s 68ms/step - loss: 0.0031\n",
      "Epoch 24/50\n",
      "59/59 [==============================] - 4s 67ms/step - loss: 0.0029\n",
      "Epoch 25/50\n",
      "59/59 [==============================] - 4s 66ms/step - loss: 0.0028\n",
      "Epoch 26/50\n",
      "59/59 [==============================] - 4s 68ms/step - loss: 0.0029\n",
      "Epoch 27/50\n",
      "59/59 [==============================] - 4s 70ms/step - loss: 0.0031\n",
      "Epoch 28/50\n",
      "59/59 [==============================] - 4s 69ms/step - loss: 0.0027\n",
      "Epoch 29/50\n",
      "59/59 [==============================] - 4s 68ms/step - loss: 0.0029\n",
      "Epoch 30/50\n",
      "59/59 [==============================] - 4s 68ms/step - loss: 0.0028\n",
      "Epoch 31/50\n",
      "59/59 [==============================] - 4s 64ms/step - loss: 0.0030\n",
      "Epoch 32/50\n",
      "59/59 [==============================] - 4s 62ms/step - loss: 0.0028\n",
      "Epoch 33/50\n",
      "59/59 [==============================] - 4s 63ms/step - loss: 0.0028\n",
      "Epoch 34/50\n",
      "59/59 [==============================] - 4s 69ms/step - loss: 0.0027\n",
      "Epoch 35/50\n",
      "59/59 [==============================] - 4s 69ms/step - loss: 0.0027\n",
      "Epoch 36/50\n",
      "59/59 [==============================] - 4s 68ms/step - loss: 0.0032\n",
      "Epoch 37/50\n",
      "59/59 [==============================] - 4s 66ms/step - loss: 0.0028\n",
      "Epoch 38/50\n",
      "59/59 [==============================] - 4s 70ms/step - loss: 0.0030\n",
      "Epoch 39/50\n",
      "59/59 [==============================] - 4s 64ms/step - loss: 0.0028: 0s - loss: 0.\n",
      "Epoch 40/50\n",
      "59/59 [==============================] - 4s 64ms/step - loss: 0.0029\n",
      "Epoch 41/50\n",
      "59/59 [==============================] - 4s 66ms/step - loss: 0.0030\n",
      "Epoch 42/50\n",
      "59/59 [==============================] - 4s 63ms/step - loss: 0.0029\n",
      "Epoch 43/50\n",
      "59/59 [==============================] - 4s 64ms/step - loss: 0.0032\n",
      "Epoch 44/50\n",
      "59/59 [==============================] - 4s 64ms/step - loss: 0.0029\n",
      "Epoch 45/50\n",
      "59/59 [==============================] - 4s 66ms/step - loss: 0.0030\n",
      "Epoch 46/50\n",
      "59/59 [==============================] - 4s 69ms/step - loss: 0.0029\n",
      "Epoch 47/50\n",
      "59/59 [==============================] - 4s 68ms/step - loss: 0.0028:\n",
      "Epoch 48/50\n",
      "59/59 [==============================] - 4s 68ms/step - loss: 0.0028: 0s - \n",
      "Epoch 49/50\n",
      "59/59 [==============================] - 4s 68ms/step - loss: 0.0031\n",
      "Epoch 50/50\n",
      "59/59 [==============================] - 4s 67ms/step - loss: 0.0028\n"
     ]
    },
    {
     "data": {
      "text/plain": [
       "<tensorflow.python.keras.callbacks.History at 0x19d1489c6d0>"
      ]
     },
     "execution_count": 7,
     "metadata": {},
     "output_type": "execute_result"
    }
   ],
   "source": [
    "model_fm.compile(loss = 'mse', optimizer = 'adam')\n",
    "model_fm.fit(X_trainf, y_trainf, epochs = 50, batch_size = 32)"
   ]
  },
  {
   "cell_type": "code",
   "execution_count": 12,
   "metadata": {},
   "outputs": [
    {
     "name": "stdout",
     "output_type": "stream",
     "text": [
      "INFO:tensorflow:Assets written to: model_experiments\\model_lstm\\assets\n",
      "INFO:tensorflow:Assets written to: model_experiments\\model_lstm\\assets\n",
      "INFO:tensorflow:Assets written to: model_experiments\\model_lstm\\assets\n",
      "INFO:tensorflow:Assets written to: model_experiments\\model_lstm\\assets\n",
      "INFO:tensorflow:Assets written to: model_experiments\\model_lstm\\assets\n",
      "INFO:tensorflow:Assets written to: model_experiments\\model_lstm\\assets\n",
      "INFO:tensorflow:Assets written to: model_experiments\\model_lstm\\assets\n",
      "INFO:tensorflow:Assets written to: model_experiments\\model_lstm\\assets\n",
      "INFO:tensorflow:Assets written to: model_experiments\\model_lstm\\assets\n",
      "INFO:tensorflow:Assets written to: model_experiments\\model_lstm\\assets\n",
      "INFO:tensorflow:Assets written to: model_experiments\\model_lstm\\assets\n",
      "INFO:tensorflow:Assets written to: model_experiments\\model_lstm\\assets\n",
      "INFO:tensorflow:Assets written to: model_experiments\\model_lstm\\assets\n",
      "INFO:tensorflow:Assets written to: model_experiments\\model_lstm\\assets\n"
     ]
    },
    {
     "data": {
      "text/plain": [
       "<tensorflow.python.keras.callbacks.History at 0x19d25ac0370>"
      ]
     },
     "execution_count": 12,
     "metadata": {},
     "output_type": "execute_result"
    }
   ],
   "source": [
    "import os\n",
    "\n",
    "HORIZON, WINDOW_SIZE = 1, 7\n",
    "\n",
    "def create_model_checkpoint(model_name, save_path=\"model_experiments\"):\n",
    "  return tf.keras.callbacks.ModelCheckpoint(filepath = os.path.join(save_path, model_name), \n",
    "                                            verbose = 0, \n",
    "                                            save_best_only = True) \n",
    "\n",
    "inputs = tf.keras.layers.Input(shape=(WINDOW_SIZE))\n",
    "x = tf.keras.layers.Lambda(lambda x: tf.expand_dims(x, axis=1))(inputs) \n",
    "x = tf.keras.layers.LSTM(128, activation=\"relu\", return_sequences=True)(x) \n",
    "x = tf.keras.layers.LSTM(128, activation=\"relu\")(x) \n",
    "x = tf.keras.layers.Dense(32, activation=\"relu\")(x)\n",
    "output = tf.keras.layers.Dense(HORIZON)(x)\n",
    "model_lstm = tf.keras.Model(inputs=inputs, outputs=output, name=\"model_lstm\")\n",
    "\n",
    "model_lstm.compile(loss=\"mae\",\n",
    "                optimizer=tf.keras.optimizers.Adam())\n",
    "\n",
    "model_lstm.fit(train_windows, train_labels, epochs=100, verbose=0, batch_size=128,\n",
    "            validation_data=(test_windows, test_labels),\n",
    "            callbacks=[create_model_checkpoint(model_name = model_lstm.name)])"
   ]
  },
  {
   "cell_type": "code",
   "execution_count": 13,
   "metadata": {},
   "outputs": [
    {
     "name": "stdout",
     "output_type": "stream",
     "text": [
      "13/13 [==============================] - 0s 2ms/step - loss: 0.0136\n"
     ]
    },
    {
     "data": {
      "text/plain": [
       "<tf.Tensor: shape=(10,), dtype=float32, numpy=\n",
       "array([1.4905509, 1.4907447, 1.4887158, 1.4885603, 1.4850461, 1.4889389,\n",
       "       1.4866539, 1.4877504, 1.4909238, 1.4988786], dtype=float32)>"
      ]
     },
     "execution_count": 13,
     "metadata": {},
     "output_type": "execute_result"
    }
   ],
   "source": [
    "model_lstm = tf.keras.models.load_model(\"model_experiments/model_lstm/\")\n",
    "model_lstm.evaluate(test_windows, test_labels)\n",
    "\n",
    "def make_preds(model, input_data):\n",
    "  forecast = model.predict(input_data)\n",
    "  return tf.squeeze(forecast)\n",
    "\n",
    "model_lstm_preds = make_preds(model_lstm, test_windows)\n",
    "model_lstm_preds[:10]"
   ]
  },
  {
   "cell_type": "code",
   "execution_count": 14,
   "metadata": {},
   "outputs": [],
   "source": [
    "model_lstm_preds = np.array(model_lstm_preds)"
   ]
  },
  {
   "cell_type": "code",
   "execution_count": 20,
   "metadata": {},
   "outputs": [
    {
     "data": {
      "text/plain": [
       "<matplotlib.legend.Legend at 0x19d32b81430>"
      ]
     },
     "execution_count": 20,
     "metadata": {},
     "output_type": "execute_result"
    },
    {
     "data": {
      "image/png": "[encoded data removed]",
      "text/plain": [
       "<Figure size 936x432 with 1 Axes>"
      ]
     },
     "metadata": {
      "needs_background": "light"
     },
     "output_type": "display_data"
    }
   ],
   "source": [
    "fig, ax = plt.subplots(figsize = (13, 6))\n",
    "ax.plot(X_test[1:], model_lstm_preds, label = \"Predictions\")\n",
    "ax.plot(X_test[1:], y_test[1:], label = \"Testing Data\")\n",
    "ax.set_title(\"Predictions vs Test Data -> Lambda Model\")\n",
    "ax.legend()"
   ]
  }
 ],
 "metadata": {
  "kernelspec": {
   "display_name": "Python 3.8.10 64-bit (windows store)",
   "language": "python",
   "name": "python3"
  },
  "language_info": {
   "codemirror_mode": {
    "name": "ipython",
    "version": 3
   },
   "file_extension": ".py",
   "mimetype": "text/x-python",
   "name": "python",
   "nbconvert_exporter": "python",
   "pygments_lexer": "ipython3",
   "version": "3.8.10"
  },
  "orig_nbformat": 4,
  "vscode": {
   "interpreter": {
    "hash": "6a59ad10282044ba139a76322f59578aecb1e0d4b83bc460c41dd698a2df07c1"
   }
  }
 },
 "nbformat": 4,
 "nbformat_minor": 2
}
