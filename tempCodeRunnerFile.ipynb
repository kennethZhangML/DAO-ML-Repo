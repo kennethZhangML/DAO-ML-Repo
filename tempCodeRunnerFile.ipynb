
            best_aic = temp_model_results.aic