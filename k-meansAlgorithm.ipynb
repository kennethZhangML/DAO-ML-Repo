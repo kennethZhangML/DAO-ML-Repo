{
 "cells": [
  {
   "cell_type": "code",
   "execution_count": 1,
   "metadata": {},
   "outputs": [],
   "source": [
    "import numpy as np\n",
    "import pandas as pd\n",
    "import matplotlib.pyplot as plt\n",
    "\n",
    "from matplotlib import animation  \n",
    "from mpl_toolkits.mplot3d import Axes3D\n",
    "\n",
    "from sklearn.model_selection import train_test_split\n",
    "from sklearn.cluster import KMeans\n",
    "from sklearn import manifold\n",
    "\n",
    "import tensorflow as tf\n",
    "from tensorflow import keras\n",
    "from tensorflow.keras.layers.experimental import preprocessing"
   ]
  },
  {
   "cell_type": "code",
   "execution_count": 2,
   "metadata": {},
   "outputs": [
    {
     "data": {
      "text/html": [
       "<div>\n",
       "<style scoped>\n",
       "    .dataframe tbody tr th:only-of-type {\n",
       "        vertical-align: middle;\n",
       "    }\n",
       "\n",
       "    .dataframe tbody tr th {\n",
       "        vertical-align: top;\n",
       "    }\n",
       "\n",
       "    .dataframe thead th {\n",
       "        text-align: right;\n",
       "    }\n",
       "</style>\n",
       "<table border=\"1\" class=\"dataframe\">\n",
       "  <thead>\n",
       "    <tr style=\"text-align: right;\">\n",
       "      <th></th>\n",
       "      <th>_id/$oid</th>\n",
       "      <th>name</th>\n",
       "      <th>symbol</th>\n",
       "      <th>contractAddress</th>\n",
       "      <th>chain/$oid</th>\n",
       "      <th>logo</th>\n",
       "      <th>decimal</th>\n",
       "      <th>financialData/price</th>\n",
       "      <th>financialData/volume24h</th>\n",
       "      <th>financialData/volumeChange24h</th>\n",
       "      <th>...</th>\n",
       "      <th>financialData/percentChange60d</th>\n",
       "      <th>financialData/percentChange90d</th>\n",
       "      <th>financialData/marketCap</th>\n",
       "      <th>financialData/marketCapDominance</th>\n",
       "      <th>financialData/fullyDilutedMarketCap</th>\n",
       "      <th>financialData/lastUpdated/$date</th>\n",
       "      <th>live</th>\n",
       "      <th>createdAt/$date</th>\n",
       "      <th>updatedAt/$date</th>\n",
       "      <th>__v</th>\n",
       "    </tr>\n",
       "  </thead>\n",
       "  <tbody>\n",
       "    <tr>\n",
       "      <th>1</th>\n",
       "      <td>623e1d5fd02aba1aed362f99</td>\n",
       "      <td>Alchemix</td>\n",
       "      <td>ALCX</td>\n",
       "      <td>0xdbdb4d16eda451d0503b854cf79d55697f90c8df</td>\n",
       "      <td>623c7bc416dc4a608cd24b00</td>\n",
       "      <td>https://s2.coinmarketcap.com/static/img/coins/...</td>\n",
       "      <td>18</td>\n",
       "      <td>107.118305</td>\n",
       "      <td>2.394103e+07</td>\n",
       "      <td>98.6279</td>\n",
       "      <td>...</td>\n",
       "      <td>-29.946043</td>\n",
       "      <td>-47.405427</td>\n",
       "      <td>1.281386e+08</td>\n",
       "      <td>0.0064</td>\n",
       "      <td>1.674200e+08</td>\n",
       "      <td>2022-03-25T19:50:00Z</td>\n",
       "      <td>True</td>\n",
       "      <td>2022-03-25T19:51:59.218Z</td>\n",
       "      <td>2022-03-25T19:51:59.218Z</td>\n",
       "      <td>0</td>\n",
       "    </tr>\n",
       "    <tr>\n",
       "      <th>2</th>\n",
       "      <td>623e30db29f0a800b9b76b4b</td>\n",
       "      <td>Aavegotchi</td>\n",
       "      <td>GHST</td>\n",
       "      <td>0x3F382DbD960E3a9bbCeaE22651E88158d2791550</td>\n",
       "      <td>623c7bc416dc4a608cd24b00</td>\n",
       "      <td>https://s2.coinmarketcap.com/static/img/coins/...</td>\n",
       "      <td>18</td>\n",
       "      <td>2.012771</td>\n",
       "      <td>2.222964e+07</td>\n",
       "      <td>-26.2485</td>\n",
       "      <td>...</td>\n",
       "      <td>0.515132</td>\n",
       "      <td>-15.602256</td>\n",
       "      <td>1.252114e+08</td>\n",
       "      <td>0.0063</td>\n",
       "      <td>1.287623e+08</td>\n",
       "      <td>2022-03-25T21:13:00Z</td>\n",
       "      <td>True</td>\n",
       "      <td>2022-03-25T21:15:07.758Z</td>\n",
       "      <td>2022-03-25T21:15:07.758Z</td>\n",
       "      <td>0</td>\n",
       "    </tr>\n",
       "    <tr>\n",
       "      <th>3</th>\n",
       "      <td>623e30dd29f0a800b9b76b4d</td>\n",
       "      <td>Decentraland</td>\n",
       "      <td>MANA</td>\n",
       "      <td>0x0f5d2fb29fb7d3cfee444a200298f468908cc942</td>\n",
       "      <td>623c7bc416dc4a608cd24b00</td>\n",
       "      <td>https://s2.coinmarketcap.com/static/img/coins/...</td>\n",
       "      <td>18</td>\n",
       "      <td>2.604602</td>\n",
       "      <td>4.620275e+08</td>\n",
       "      <td>-35.9028</td>\n",
       "      <td>...</td>\n",
       "      <td>25.014858</td>\n",
       "      <td>-30.904646</td>\n",
       "      <td>4.794600e+09</td>\n",
       "      <td>0.2399</td>\n",
       "      <td>5.713784e+09</td>\n",
       "      <td>2022-03-25T21:13:00Z</td>\n",
       "      <td>True</td>\n",
       "      <td>2022-03-25T21:15:09.820Z</td>\n",
       "      <td>2022-03-25T21:15:09.820Z</td>\n",
       "      <td>0</td>\n",
       "    </tr>\n",
       "    <tr>\n",
       "      <th>4</th>\n",
       "      <td>623e30df29f0a800b9b76b4f</td>\n",
       "      <td>Magic Ethereum Money</td>\n",
       "      <td>MEM</td>\n",
       "      <td>0x343e59d9d835e35b07fe80f5bb544f8ed1cd3b11</td>\n",
       "      <td>623c7bc416dc4a608cd24b00</td>\n",
       "      <td>https://s2.coinmarketcap.com/static/img/coins/...</td>\n",
       "      <td>18</td>\n",
       "      <td>0.000005</td>\n",
       "      <td>9.751028e+04</td>\n",
       "      <td>102.6711</td>\n",
       "      <td>...</td>\n",
       "      <td>37.165415</td>\n",
       "      <td>37.165415</td>\n",
       "      <td>0.000000e+00</td>\n",
       "      <td>0.0000</td>\n",
       "      <td>4.969091e+06</td>\n",
       "      <td>2022-03-25T21:13:00Z</td>\n",
       "      <td>True</td>\n",
       "      <td>2022-03-25T21:15:11.304Z</td>\n",
       "      <td>2022-03-25T21:15:11.304Z</td>\n",
       "      <td>0</td>\n",
       "    </tr>\n",
       "  </tbody>\n",
       "</table>\n",
       "<p>4 rows × 24 columns</p>\n",
       "</div>"
      ],
      "text/plain": [
       "                   _id/$oid                  name symbol  \\\n",
       "1  623e1d5fd02aba1aed362f99              Alchemix   ALCX   \n",
       "2  623e30db29f0a800b9b76b4b            Aavegotchi   GHST   \n",
       "3  623e30dd29f0a800b9b76b4d          Decentraland   MANA   \n",
       "4  623e30df29f0a800b9b76b4f  Magic Ethereum Money    MEM   \n",
       "\n",
       "                              contractAddress                chain/$oid  \\\n",
       "1  0xdbdb4d16eda451d0503b854cf79d55697f90c8df  623c7bc416dc4a608cd24b00   \n",
       "2  0x3F382DbD960E3a9bbCeaE22651E88158d2791550  623c7bc416dc4a608cd24b00   \n",
       "3  0x0f5d2fb29fb7d3cfee444a200298f468908cc942  623c7bc416dc4a608cd24b00   \n",
       "4  0x343e59d9d835e35b07fe80f5bb544f8ed1cd3b11  623c7bc416dc4a608cd24b00   \n",
       "\n",
       "                                                logo  decimal  \\\n",
       "1  https://s2.coinmarketcap.com/static/img/coins/...       18   \n",
       "2  https://s2.coinmarketcap.com/static/img/coins/...       18   \n",
       "3  https://s2.coinmarketcap.com/static/img/coins/...       18   \n",
       "4  https://s2.coinmarketcap.com/static/img/coins/...       18   \n",
       "\n",
       "   financialData/price  financialData/volume24h  \\\n",
       "1           107.118305             2.394103e+07   \n",
       "2             2.012771             2.222964e+07   \n",
       "3             2.604602             4.620275e+08   \n",
       "4             0.000005             9.751028e+04   \n",
       "\n",
       "   financialData/volumeChange24h  ...  financialData/percentChange60d  \\\n",
       "1                        98.6279  ...                      -29.946043   \n",
       "2                       -26.2485  ...                        0.515132   \n",
       "3                       -35.9028  ...                       25.014858   \n",
       "4                       102.6711  ...                       37.165415   \n",
       "\n",
       "   financialData/percentChange90d  financialData/marketCap  \\\n",
       "1                      -47.405427             1.281386e+08   \n",
       "2                      -15.602256             1.252114e+08   \n",
       "3                      -30.904646             4.794600e+09   \n",
       "4                       37.165415             0.000000e+00   \n",
       "\n",
       "   financialData/marketCapDominance  financialData/fullyDilutedMarketCap  \\\n",
       "1                            0.0064                         1.674200e+08   \n",
       "2                            0.0063                         1.287623e+08   \n",
       "3                            0.2399                         5.713784e+09   \n",
       "4                            0.0000                         4.969091e+06   \n",
       "\n",
       "   financialData/lastUpdated/$date  live           createdAt/$date  \\\n",
       "1             2022-03-25T19:50:00Z  True  2022-03-25T19:51:59.218Z   \n",
       "2             2022-03-25T21:13:00Z  True  2022-03-25T21:15:07.758Z   \n",
       "3             2022-03-25T21:13:00Z  True  2022-03-25T21:15:09.820Z   \n",
       "4             2022-03-25T21:13:00Z  True  2022-03-25T21:15:11.304Z   \n",
       "\n",
       "            updatedAt/$date __v  \n",
       "1  2022-03-25T19:51:59.218Z   0  \n",
       "2  2022-03-25T21:15:07.758Z   0  \n",
       "3  2022-03-25T21:15:09.820Z   0  \n",
       "4  2022-03-25T21:15:11.304Z   0  \n",
       "\n",
       "[4 rows x 24 columns]"
      ]
     },
     "execution_count": 2,
     "metadata": {},
     "output_type": "execute_result"
    }
   ],
   "source": [
    "dao_data = pd.read_csv(\"tokens.csv\")\n",
    "dao_data = dao_data.copy().dropna()\n",
    "dao_data.head(4)"
   ]
  },
  {
   "cell_type": "code",
   "execution_count": 3,
   "metadata": {},
   "outputs": [
    {
     "data": {
      "text/plain": [
       "(126, 24)"
      ]
     },
     "execution_count": 3,
     "metadata": {},
     "output_type": "execute_result"
    }
   ],
   "source": [
    "dao_data.shape"
   ]
  },
  {
   "cell_type": "code",
   "execution_count": 4,
   "metadata": {},
   "outputs": [],
   "source": [
    "dao_data.pop(\"_id/$oid\")\n",
    "dao_data.pop(\"name\")\n",
    "dao_data.pop(\"symbol\")\n",
    "dao_data.pop(\"contractAddress\")\n",
    "dao_data.pop(\"chain/$oid\")\n",
    "dao_data.pop(\"logo\")\n",
    "dao_data.pop(\"decimal\")\n",
    "dao_data.pop(\"financialData/lastUpdated/$date\")\n",
    "dao_data.pop(\"live\")\n",
    "dao_data.pop(\"createdAt/$date\")\n",
    "dao_data.pop(\"updatedAt/$date\")\n",
    "dao_labels = dao_data.pop(\"__v\")"
   ]
  },
  {
   "cell_type": "code",
   "execution_count": 5,
   "metadata": {},
   "outputs": [
    {
     "data": {
      "text/plain": [
       "(126, 12)"
      ]
     },
     "execution_count": 5,
     "metadata": {},
     "output_type": "execute_result"
    }
   ],
   "source": [
    "dao_data.shape"
   ]
  },
  {
   "cell_type": "code",
   "execution_count": 6,
   "metadata": {},
   "outputs": [
    {
     "data": {
      "text/plain": [
       "{'financialData/price': <KerasTensor: shape=(None, 1) dtype=float32 (created by layer 'financialData/price')>,\n",
       " 'financialData/volume24h': <KerasTensor: shape=(None, 1) dtype=float32 (created by layer 'financialData/volume24h')>,\n",
       " 'financialData/volumeChange24h': <KerasTensor: shape=(None, 1) dtype=float32 (created by layer 'financialData/volumeChange24h')>,\n",
       " 'financialData/percentChange1h': <KerasTensor: shape=(None, 1) dtype=float32 (created by layer 'financialData/percentChange1h')>,\n",
       " 'financialData/percentChange24h': <KerasTensor: shape=(None, 1) dtype=float32 (created by layer 'financialData/percentChange24h')>,\n",
       " 'financialData/percentChange7d': <KerasTensor: shape=(None, 1) dtype=float32 (created by layer 'financialData/percentChange7d')>,\n",
       " 'financialData/percentChange30d': <KerasTensor: shape=(None, 1) dtype=float32 (created by layer 'financialData/percentChange30d')>,\n",
       " 'financialData/percentChange60d': <KerasTensor: shape=(None, 1) dtype=float32 (created by layer 'financialData/percentChange60d')>,\n",
       " 'financialData/percentChange90d': <KerasTensor: shape=(None, 1) dtype=float32 (created by layer 'financialData/percentChange90d')>,\n",
       " 'financialData/marketCap': <KerasTensor: shape=(None, 1) dtype=float32 (created by layer 'financialData/marketCap')>,\n",
       " 'financialData/marketCapDominance': <KerasTensor: shape=(None, 1) dtype=float32 (created by layer 'financialData/marketCapDominance')>,\n",
       " 'financialData/fullyDilutedMarketCap': <KerasTensor: shape=(None, 1) dtype=float32 (created by layer 'financialData/fullyDilutedMarketCap')>}"
      ]
     },
     "execution_count": 6,
     "metadata": {},
     "output_type": "execute_result"
    }
   ],
   "source": [
    "input_x = {}\n",
    "for name, column in dao_data.items():\n",
    "    dtype = column.dtype\n",
    "    if dtype == object:\n",
    "        dtype = tf.string\n",
    "    else:\n",
    "        dtype = tf.float32\n",
    "    input_x[name] = tf.keras.Input(shape=(1,), name=name, dtype=dtype)\n",
    "\n",
    "input_x"
   ]
  },
  {
   "cell_type": "code",
   "execution_count": 7,
   "metadata": {},
   "outputs": [
    {
     "data": {
      "text/plain": [
       "<KerasTensor: shape=(None, 12) dtype=float32 (created by layer 'normalization')>"
      ]
     },
     "execution_count": 7,
     "metadata": {},
     "output_type": "execute_result"
    }
   ],
   "source": [
    "numeric_inputs = {name: input for name, input in input_x.items() if input.dtype == tf.float32}\n",
    "\n",
    "x = tf.keras.layers.Concatenate()(list(numeric_inputs.values()))\n",
    "norm = preprocessing.Normalization()\n",
    "norm.adapt(np.array(dao_data[numeric_inputs.keys()]))\n",
    "all_numeric_inputs = norm(x)\n",
    "preprocessed_inputs = [all_numeric_inputs]\n",
    "\n",
    "all_numeric_inputs"
   ]
  },
  {
   "cell_type": "code",
   "execution_count": 8,
   "metadata": {},
   "outputs": [
    {
     "data": {
      "text/plain": [
       "[<KerasTensor: shape=(None, 12) dtype=float32 (created by layer 'normalization')>]"
      ]
     },
     "execution_count": 8,
     "metadata": {},
     "output_type": "execute_result"
    }
   ],
   "source": [
    "for name, input in input_x.items():\n",
    "    if input.dtype != tf.string:\n",
    "        continue\n",
    "    \n",
    "    lookup = preprocessing.StringLookup(vocabulary=np.unique(dao_data[name]))\n",
    "    one_hot = preprocessing.CategoryEncoding(max_tokens=lookup.vocab_size())\n",
    "\n",
    "#    x = tf.strings.lower(name)\n",
    "#    x = tf.strings.strip(x)\n",
    "    x = lookup(input)\n",
    "    x = one_hot(x)\n",
    "    preprocessed_inputs.append(x) \n",
    "    \n",
    "preprocessed_inputs"
   ]
  },
  {
   "cell_type": "code",
   "execution_count": 9,
   "metadata": {},
   "outputs": [
    {
     "name": "stdout",
     "output_type": "stream",
     "text": [
      "('Failed to import pydot. You must `pip install pydot` and install graphviz (https://graphviz.gitlab.io/download/), ', 'for `pydotprint` to work.')\n"
     ]
    }
   ],
   "source": [
    "preprocessing_layer = tf.keras.Model(input_x, preprocessed_inputs, name=\"Processed DAO Data\")"
   ]
  },
  {
   "cell_type": "code",
   "execution_count": 10,
   "metadata": {},
   "outputs": [
    {
     "data": {
      "text/plain": [
       "{'financialData/price': array([2.01277126, 2.60460218]),\n",
       " 'financialData/volume24h': array([2.22296429e+07, 4.62027472e+08]),\n",
       " 'financialData/volumeChange24h': array([-26.2485, -35.9028]),\n",
       " 'financialData/percentChange1h': array([-0.0839251 ,  0.08114252]),\n",
       " 'financialData/percentChange24h': array([-0.81904903, -1.60651805]),\n",
       " 'financialData/percentChange7d': array([2.86166081, 6.57703982]),\n",
       " 'financialData/percentChange30d': array([ 1.96809949, -0.74814829]),\n",
       " 'financialData/percentChange60d': array([ 0.51513232, 25.01485821]),\n",
       " 'financialData/percentChange90d': array([-15.60225555, -30.90464572]),\n",
       " 'financialData/marketCap': array([1.25211404e+08, 4.79460032e+09]),\n",
       " 'financialData/marketCapDominance': array([0.0063, 0.2399]),\n",
       " 'financialData/fullyDilutedMarketCap': array([1.28762262e+08, 5.71378412e+09])}"
      ]
     },
     "execution_count": 10,
     "metadata": {},
     "output_type": "execute_result"
    }
   ],
   "source": [
    "dao_features_dict = {name: np.array(value) for name, value in dao_data.items()}\n",
    "two_dao_sample_dict = {name:values[1:3, ] for name, values in dao_features_dict.items()}\n",
    "two_dao_sample_dict"
   ]
  },
  {
   "cell_type": "code",
   "execution_count": 11,
   "metadata": {},
   "outputs": [
    {
     "data": {
      "text/plain": [
       "{'financialData/price': array([2.01277126, 2.60460218]),\n",
       " 'financialData/volume24h': array([2.22296429e+07, 4.62027472e+08]),\n",
       " 'financialData/volumeChange24h': array([-26.2485, -35.9028]),\n",
       " 'financialData/percentChange1h': array([-0.0839251 ,  0.08114252]),\n",
       " 'financialData/percentChange24h': array([-0.81904903, -1.60651805]),\n",
       " 'financialData/percentChange7d': array([2.86166081, 6.57703982]),\n",
       " 'financialData/percentChange30d': array([ 1.96809949, -0.74814829]),\n",
       " 'financialData/percentChange60d': array([ 0.51513232, 25.01485821]),\n",
       " 'financialData/percentChange90d': array([-15.60225555, -30.90464572]),\n",
       " 'financialData/marketCap': array([1.25211404e+08, 4.79460032e+09]),\n",
       " 'financialData/marketCapDominance': array([0.0063, 0.2399]),\n",
       " 'financialData/fullyDilutedMarketCap': array([1.28762262e+08, 5.71378412e+09])}"
      ]
     },
     "execution_count": 11,
     "metadata": {},
     "output_type": "execute_result"
    }
   ],
   "source": [
    "two_sample_fitted = preprocessing_layer(two_dao_sample_dict)\n",
    "two_dao_sample_dict"
   ]
  },
  {
   "cell_type": "code",
   "execution_count": 13,
   "metadata": {},
   "outputs": [
    {
     "name": "stdout",
     "output_type": "stream",
     "text": [
      "('Failed to import pydot. You must `pip install pydot` and install graphviz (https://graphviz.gitlab.io/download/), ', 'for `pydotprint` to work.')\n"
     ]
    }
   ],
   "source": [
    "full_dim = two_sample_fitted.shape.as_list()[1]\n",
    "\n",
    "encoding_dim1 = 128\n",
    "encoding_dim2 = 16\n",
    "encoding_dim3 = 3 \n",
    "\n",
    "encoder_input_data = keras.Input(shape=(full_dim,))\n",
    "\n",
    "encoded_layer1 = keras.layers.Dense(encoding_dim1, activation='relu')(encoder_input_data)\n",
    "encoded_layer2 = keras.layers.Dense(encoding_dim2, activation='relu')(encoded_layer1)\n",
    "encoded_layer3 = keras.layers.Dense(encoding_dim3, activation='relu', name=\"ClusteringLayer\")(encoded_layer2)\n",
    "\n",
    "encoder_model = keras.Model(encoder_input_data, encoded_layer3)\n",
    "\n",
    "decoded_layer3 = keras.layers.Dense(encoding_dim2, activation='relu')(encoded_layer3)\n",
    "decoded_layer2 = keras.layers.Dense(encoding_dim1, activation='relu')(decoded_layer3)\n",
    "decoded_layer1 = keras.layers.Dense(full_dim, activation='sigmoid')(decoded_layer2)\n",
    "\n",
    "autoencoder_model = keras.Model(encoder_input_data, outputs=decoded_layer1, name=\"Encoder\")\n",
    "\n",
    "autoencoder_model.compile(optimizer=\"RMSprop\", loss=tf.keras.losses.mean_squared_error)\n",
    "tf.keras.utils.plot_model(model=autoencoder_model, rankdir=\"LR\", dpi=130, show_shapes=True, to_file=\"autoencoder.png\")"
   ]
  }
 ],
 "metadata": {
  "interpreter": {
   "hash": "dc13a45ed11b1b662b77e117ddacdf75f2a8b689ef2fab88ed5800283a7fb6af"
  },
  "kernelspec": {
   "display_name": "Python 3.8.10 64-bit (windows store)",
   "language": "python",
   "name": "python3"
  },
  "language_info": {
   "codemirror_mode": {
    "name": "ipython",
    "version": 3
   },
   "file_extension": ".py",
   "mimetype": "text/x-python",
   "name": "python",
   "nbconvert_exporter": "python",
   "pygments_lexer": "ipython3",
   "version": "3.8.10"
  },
  "orig_nbformat": 4
 },
 "nbformat": 4,
 "nbformat_minor": 2
}
