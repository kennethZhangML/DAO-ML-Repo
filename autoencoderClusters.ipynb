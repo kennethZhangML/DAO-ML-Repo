{
 "cells": [
  {
   "cell_type": "code",
   "execution_count": 1,
   "metadata": {},
   "outputs": [],
   "source": [
    "import numpy as np\n",
    "import pandas as pd\n",
    "import matplotlib.pyplot as plt\n",
    "\n",
    "from matplotlib import animation  \n",
    "from mpl_toolkits.mplot3d import Axes3D\n",
    "\n",
    "from sklearn.model_selection import train_test_split\n",
    "from sklearn.cluster import KMeans\n",
    "from sklearn import manifold\n",
    "\n",
    "import tensorflow as tf\n",
    "from tensorflow import keras\n",
    "from tensorflow.keras.layers.experimental import preprocessing"
   ]
  },
  {
   "cell_type": "code",
   "execution_count": 2,
   "metadata": {},
   "outputs": [
    {
     "data": {
      "text/html": [
       "<div>\n",
       "<style scoped>\n",
       "    .dataframe tbody tr th:only-of-type {\n",
       "        vertical-align: middle;\n",
       "    }\n",
       "\n",
       "    .dataframe tbody tr th {\n",
       "        vertical-align: top;\n",
       "    }\n",
       "\n",
       "    .dataframe thead th {\n",
       "        text-align: right;\n",
       "    }\n",
       "</style>\n",
       "<table border=\"1\" class=\"dataframe\">\n",
       "  <thead>\n",
       "    <tr style=\"text-align: right;\">\n",
       "      <th></th>\n",
       "      <th>financialData/price</th>\n",
       "      <th>financialData/volume24h</th>\n",
       "      <th>financialData/volumeChange24h</th>\n",
       "      <th>financialData/percentChange1h</th>\n",
       "      <th>financialData/percentChange24h</th>\n",
       "      <th>financialData/percentChange7d</th>\n",
       "      <th>financialData/percentChange30d</th>\n",
       "      <th>financialData/percentChange60d</th>\n",
       "      <th>financialData/percentChange90d</th>\n",
       "      <th>financialData/marketCap</th>\n",
       "      <th>financialData/marketCapDominance</th>\n",
       "      <th>financialData/fullyDilutedMarketCap</th>\n",
       "    </tr>\n",
       "  </thead>\n",
       "  <tbody>\n",
       "    <tr>\n",
       "      <th>1</th>\n",
       "      <td>107.118305</td>\n",
       "      <td>2.394103e+07</td>\n",
       "      <td>98.6279</td>\n",
       "      <td>-2.590717</td>\n",
       "      <td>2.321428</td>\n",
       "      <td>9.309774</td>\n",
       "      <td>-20.503689</td>\n",
       "      <td>-29.946043</td>\n",
       "      <td>-47.405427</td>\n",
       "      <td>1.281386e+08</td>\n",
       "      <td>0.0064</td>\n",
       "      <td>1.674200e+08</td>\n",
       "    </tr>\n",
       "    <tr>\n",
       "      <th>2</th>\n",
       "      <td>2.012771</td>\n",
       "      <td>2.222964e+07</td>\n",
       "      <td>-26.2485</td>\n",
       "      <td>-0.083925</td>\n",
       "      <td>-0.819049</td>\n",
       "      <td>2.861661</td>\n",
       "      <td>1.968099</td>\n",
       "      <td>0.515132</td>\n",
       "      <td>-15.602256</td>\n",
       "      <td>1.252114e+08</td>\n",
       "      <td>0.0063</td>\n",
       "      <td>1.287623e+08</td>\n",
       "    </tr>\n",
       "    <tr>\n",
       "      <th>3</th>\n",
       "      <td>2.604602</td>\n",
       "      <td>4.620275e+08</td>\n",
       "      <td>-35.9028</td>\n",
       "      <td>0.081143</td>\n",
       "      <td>-1.606518</td>\n",
       "      <td>6.577040</td>\n",
       "      <td>-0.748148</td>\n",
       "      <td>25.014858</td>\n",
       "      <td>-30.904646</td>\n",
       "      <td>4.794600e+09</td>\n",
       "      <td>0.2399</td>\n",
       "      <td>5.713784e+09</td>\n",
       "    </tr>\n",
       "    <tr>\n",
       "      <th>4</th>\n",
       "      <td>0.000005</td>\n",
       "      <td>9.751028e+04</td>\n",
       "      <td>102.6711</td>\n",
       "      <td>-3.107993</td>\n",
       "      <td>-1.089080</td>\n",
       "      <td>-20.801173</td>\n",
       "      <td>23.767579</td>\n",
       "      <td>37.165415</td>\n",
       "      <td>37.165415</td>\n",
       "      <td>0.000000e+00</td>\n",
       "      <td>0.0000</td>\n",
       "      <td>4.969091e+06</td>\n",
       "    </tr>\n",
       "    <tr>\n",
       "      <th>5</th>\n",
       "      <td>4.283644</td>\n",
       "      <td>7.365072e+05</td>\n",
       "      <td>3.7986</td>\n",
       "      <td>-0.345016</td>\n",
       "      <td>-2.939907</td>\n",
       "      <td>8.500397</td>\n",
       "      <td>-31.746554</td>\n",
       "      <td>-32.329757</td>\n",
       "      <td>-40.635534</td>\n",
       "      <td>8.173324e+06</td>\n",
       "      <td>0.0000</td>\n",
       "      <td>8.191968e+06</td>\n",
       "    </tr>\n",
       "  </tbody>\n",
       "</table>\n",
       "</div>"
      ],
      "text/plain": [
       "   financialData/price  financialData/volume24h  \\\n",
       "1           107.118305             2.394103e+07   \n",
       "2             2.012771             2.222964e+07   \n",
       "3             2.604602             4.620275e+08   \n",
       "4             0.000005             9.751028e+04   \n",
       "5             4.283644             7.365072e+05   \n",
       "\n",
       "   financialData/volumeChange24h  financialData/percentChange1h  \\\n",
       "1                        98.6279                      -2.590717   \n",
       "2                       -26.2485                      -0.083925   \n",
       "3                       -35.9028                       0.081143   \n",
       "4                       102.6711                      -3.107993   \n",
       "5                         3.7986                      -0.345016   \n",
       "\n",
       "   financialData/percentChange24h  financialData/percentChange7d  \\\n",
       "1                        2.321428                       9.309774   \n",
       "2                       -0.819049                       2.861661   \n",
       "3                       -1.606518                       6.577040   \n",
       "4                       -1.089080                     -20.801173   \n",
       "5                       -2.939907                       8.500397   \n",
       "\n",
       "   financialData/percentChange30d  financialData/percentChange60d  \\\n",
       "1                      -20.503689                      -29.946043   \n",
       "2                        1.968099                        0.515132   \n",
       "3                       -0.748148                       25.014858   \n",
       "4                       23.767579                       37.165415   \n",
       "5                      -31.746554                      -32.329757   \n",
       "\n",
       "   financialData/percentChange90d  financialData/marketCap  \\\n",
       "1                      -47.405427             1.281386e+08   \n",
       "2                      -15.602256             1.252114e+08   \n",
       "3                      -30.904646             4.794600e+09   \n",
       "4                       37.165415             0.000000e+00   \n",
       "5                      -40.635534             8.173324e+06   \n",
       "\n",
       "   financialData/marketCapDominance  financialData/fullyDilutedMarketCap  \n",
       "1                            0.0064                         1.674200e+08  \n",
       "2                            0.0063                         1.287623e+08  \n",
       "3                            0.2399                         5.713784e+09  \n",
       "4                            0.0000                         4.969091e+06  \n",
       "5                            0.0000                         8.191968e+06  "
      ]
     },
     "execution_count": 2,
     "metadata": {},
     "output_type": "execute_result"
    }
   ],
   "source": [
    "dao_data = pd.read_csv(\"tokens.csv\")\n",
    "dao_data = dao_data.copy().dropna()\n",
    "\n",
    "dao_data.pop(\"_id/$oid\")\n",
    "dao_data.pop(\"name\")\n",
    "dao_data.pop(\"symbol\")\n",
    "dao_data.pop(\"contractAddress\")\n",
    "dao_data.pop(\"chain/$oid\")\n",
    "dao_data.pop(\"logo\")\n",
    "dao_data.pop(\"decimal\")\n",
    "dao_data.pop(\"financialData/lastUpdated/$date\")\n",
    "dao_data.pop(\"live\")\n",
    "dao_data.pop(\"createdAt/$date\")\n",
    "dao_data.pop(\"updatedAt/$date\")\n",
    "dao_labels = dao_data.pop(\"__v\")\n",
    "\n",
    "dao_data.head(n = 5)"
   ]
  },
  {
   "cell_type": "code",
   "execution_count": 3,
   "metadata": {},
   "outputs": [
    {
     "data": {
      "text/plain": [
       "{'financialData/price': <KerasTensor: shape=(None, 1) dtype=float32 (created by layer 'financialData/price')>,\n",
       " 'financialData/volume24h': <KerasTensor: shape=(None, 1) dtype=float32 (created by layer 'financialData/volume24h')>,\n",
       " 'financialData/volumeChange24h': <KerasTensor: shape=(None, 1) dtype=float32 (created by layer 'financialData/volumeChange24h')>,\n",
       " 'financialData/percentChange1h': <KerasTensor: shape=(None, 1) dtype=float32 (created by layer 'financialData/percentChange1h')>,\n",
       " 'financialData/percentChange24h': <KerasTensor: shape=(None, 1) dtype=float32 (created by layer 'financialData/percentChange24h')>,\n",
       " 'financialData/percentChange7d': <KerasTensor: shape=(None, 1) dtype=float32 (created by layer 'financialData/percentChange7d')>,\n",
       " 'financialData/percentChange30d': <KerasTensor: shape=(None, 1) dtype=float32 (created by layer 'financialData/percentChange30d')>,\n",
       " 'financialData/percentChange60d': <KerasTensor: shape=(None, 1) dtype=float32 (created by layer 'financialData/percentChange60d')>,\n",
       " 'financialData/percentChange90d': <KerasTensor: shape=(None, 1) dtype=float32 (created by layer 'financialData/percentChange90d')>,\n",
       " 'financialData/marketCap': <KerasTensor: shape=(None, 1) dtype=float32 (created by layer 'financialData/marketCap')>,\n",
       " 'financialData/marketCapDominance': <KerasTensor: shape=(None, 1) dtype=float32 (created by layer 'financialData/marketCapDominance')>,\n",
       " 'financialData/fullyDilutedMarketCap': <KerasTensor: shape=(None, 1) dtype=float32 (created by layer 'financialData/fullyDilutedMarketCap')>}"
      ]
     },
     "execution_count": 3,
     "metadata": {},
     "output_type": "execute_result"
    }
   ],
   "source": [
    "x_inputs = {}\n",
    "\n",
    "for col_name, column in dao_data.items():\n",
    "    dtype = column.dtype\n",
    "    if dtype == object:\n",
    "        dtype = tf.string\n",
    "    else:\n",
    "        dtype = tf.float32\n",
    "    x_inputs[col_name] = tf.keras.Input(shape = (1,), name = col_name, dtype = dtype)\n",
    "\n",
    "x_inputs"
   ]
  },
  {
   "cell_type": "code",
   "execution_count": 5,
   "metadata": {},
   "outputs": [
    {
     "data": {
      "text/plain": [
       "[<KerasTensor: shape=(None, 12) dtype=float32 (created by layer 'normalization')>]"
      ]
     },
     "execution_count": 5,
     "metadata": {},
     "output_type": "execute_result"
    }
   ],
   "source": [
    "num_inputs = {name: input for name, input in x_inputs.items() if input.dtype == tf.float32}\n",
    "\n",
    "x = tf.keras.layers.Concatenate()(list(num_inputs.values()))\n",
    "normalization = tf.keras.layers.experimental.preprocessing.Normalization()\n",
    "normalization.adapt(np.array(dao_data[num_inputs.keys()]))\n",
    "all_num_inputs = normalization(x)\n",
    "\n",
    "preprocessed_inputs = [all_num_inputs]\n",
    "\n",
    "preprocessed_inputs"
   ]
  },
  {
   "cell_type": "code",
   "execution_count": 7,
   "metadata": {},
   "outputs": [
    {
     "data": {
      "text/plain": [
       "[<KerasTensor: shape=(None, 12) dtype=float32 (created by layer 'normalization')>]"
      ]
     },
     "execution_count": 7,
     "metadata": {},
     "output_type": "execute_result"
    }
   ],
   "source": [
    "for name, input in x_inputs.items():\n",
    "    if input.dtype != tf.string:\n",
    "        continue\n",
    "\n",
    "    str_lookup = tf.keras.layers.experimental.preprocessing.StringLookup(vocabulary = np.unique(dao_data[col_name]))\n",
    "    one_hot_enc = tf.keras.layers.experimental.preprocessing.CategoryEncoding(max_tokens = str_lookup.vocab_size())\n",
    "\n",
    "    x = str_lookup(input)\n",
    "    x = one_hot_enc(x)\n",
    "    preprocessed_inputs.append(x)\n",
    "\n",
    "preprocessing_layer = tf.keras.Model(x_inputs, preprocessed_inputs)\n",
    "preprocessed_inputs"
   ]
  },
  {
   "cell_type": "code",
   "execution_count": null,
   "metadata": {},
   "outputs": [],
   "source": []
  }
 ],
 "metadata": {
  "interpreter": {
   "hash": "dc13a45ed11b1b662b77e117ddacdf75f2a8b689ef2fab88ed5800283a7fb6af"
  },
  "kernelspec": {
   "display_name": "Python 3.8.10 64-bit (windows store)",
   "language": "python",
   "name": "python3"
  },
  "language_info": {
   "codemirror_mode": {
    "name": "ipython",
    "version": 3
   },
   "file_extension": ".py",
   "mimetype": "text/x-python",
   "name": "python",
   "nbconvert_exporter": "python",
   "pygments_lexer": "ipython3",
   "version": "3.8.10"
  },
  "orig_nbformat": 4
 },
 "nbformat": 4,
 "nbformat_minor": 2
}
