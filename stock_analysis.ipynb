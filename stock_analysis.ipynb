{
 "cells": [
  {
   "cell_type": "code",
   "execution_count": 7,
   "metadata": {},
   "outputs": [
    {
     "name": "stdout",
     "output_type": "stream",
     "text": [
      "[*********************100%***********************]  1 of 1 completed\n"
     ]
    },
    {
     "data": {
      "text/html": [
       "<div>\n",
       "<style scoped>\n",
       "    .dataframe tbody tr th:only-of-type {\n",
       "        vertical-align: middle;\n",
       "    }\n",
       "\n",
       "    .dataframe tbody tr th {\n",
       "        vertical-align: top;\n",
       "    }\n",
       "\n",
       "    .dataframe thead th {\n",
       "        text-align: right;\n",
       "    }\n",
       "</style>\n",
       "<table border=\"1\" class=\"dataframe\">\n",
       "  <thead>\n",
       "    <tr style=\"text-align: right;\">\n",
       "      <th></th>\n",
       "      <th>Open</th>\n",
       "      <th>High</th>\n",
       "      <th>Low</th>\n",
       "      <th>Close</th>\n",
       "      <th>Adj Close</th>\n",
       "      <th>Volume</th>\n",
       "    </tr>\n",
       "    <tr>\n",
       "      <th>Date</th>\n",
       "      <th></th>\n",
       "      <th></th>\n",
       "      <th></th>\n",
       "      <th></th>\n",
       "      <th></th>\n",
       "      <th></th>\n",
       "    </tr>\n",
       "  </thead>\n",
       "  <tbody>\n",
       "    <tr>\n",
       "      <th>2019-06-18</th>\n",
       "      <td>2906.709961</td>\n",
       "      <td>2930.790039</td>\n",
       "      <td>2905.439941</td>\n",
       "      <td>2917.750000</td>\n",
       "      <td>2917.750000</td>\n",
       "      <td>3437620000</td>\n",
       "    </tr>\n",
       "    <tr>\n",
       "      <th>2019-06-19</th>\n",
       "      <td>2920.550049</td>\n",
       "      <td>2931.739990</td>\n",
       "      <td>2911.429932</td>\n",
       "      <td>2926.459961</td>\n",
       "      <td>2926.459961</td>\n",
       "      <td>3287890000</td>\n",
       "    </tr>\n",
       "    <tr>\n",
       "      <th>2019-06-20</th>\n",
       "      <td>2949.600098</td>\n",
       "      <td>2958.060059</td>\n",
       "      <td>2931.500000</td>\n",
       "      <td>2954.179932</td>\n",
       "      <td>2954.179932</td>\n",
       "      <td>3905940000</td>\n",
       "    </tr>\n",
       "    <tr>\n",
       "      <th>2019-06-21</th>\n",
       "      <td>2952.709961</td>\n",
       "      <td>2964.149902</td>\n",
       "      <td>2946.870117</td>\n",
       "      <td>2950.459961</td>\n",
       "      <td>2950.459961</td>\n",
       "      <td>5000120000</td>\n",
       "    </tr>\n",
       "    <tr>\n",
       "      <th>2019-06-24</th>\n",
       "      <td>2951.419922</td>\n",
       "      <td>2954.919922</td>\n",
       "      <td>2944.050049</td>\n",
       "      <td>2945.350098</td>\n",
       "      <td>2945.350098</td>\n",
       "      <td>3136250000</td>\n",
       "    </tr>\n",
       "  </tbody>\n",
       "</table>\n",
       "</div>"
      ],
      "text/plain": [
       "                   Open         High          Low        Close    Adj Close  \\\n",
       "Date                                                                          \n",
       "2019-06-18  2906.709961  2930.790039  2905.439941  2917.750000  2917.750000   \n",
       "2019-06-19  2920.550049  2931.739990  2911.429932  2926.459961  2926.459961   \n",
       "2019-06-20  2949.600098  2958.060059  2931.500000  2954.179932  2954.179932   \n",
       "2019-06-21  2952.709961  2964.149902  2946.870117  2950.459961  2950.459961   \n",
       "2019-06-24  2951.419922  2954.919922  2944.050049  2945.350098  2945.350098   \n",
       "\n",
       "                Volume  \n",
       "Date                    \n",
       "2019-06-18  3437620000  \n",
       "2019-06-19  3287890000  \n",
       "2019-06-20  3905940000  \n",
       "2019-06-21  5000120000  \n",
       "2019-06-24  3136250000  "
      ]
     },
     "execution_count": 7,
     "metadata": {},
     "output_type": "execute_result"
    }
   ],
   "source": [
    "import tensorflow as tf\n",
    "import numpy as np\n",
    "import pandas as pd\n",
    "import matplotlib.pyplot as plt\n",
    "import yfinance as yf\n",
    "\n",
    "def get_yfData(tickers, period, columns):\n",
    "    yfDf = yf.download(tickers = [tickers], period = period)\n",
    "    for column in range(len(columns)):\n",
    "        yfDf[column].fillna(method = \"ffill\")\n",
    "    return yfDf\n",
    "\n",
    "df = yf.download(tickers=['^GSPC'], period='3y')\n",
    "df['Close'].fillna(method = \"ffill\")\n",
    "df.head(n=5)"
   ]
  },
  {
   "cell_type": "code",
   "execution_count": 9,
   "metadata": {},
   "outputs": [
    {
     "name": "stdout",
     "output_type": "stream",
     "text": [
      "(606,) (152, 1) (152,) (152, 1)\n"
     ]
    }
   ],
   "source": [
    "timesteps = df.index.to_numpy()\n",
    "prices = df['Close'].to_numpy().reshape(-1, 1)\n",
    "\n",
    "test_size = int(0.8 * len(prices))\n",
    "\n",
    "X_train, y_train = timesteps[:test_size], prices[test_size:]\n",
    "X_test, y_test = timesteps[test_size:], prices[test_size:]\n",
    "\n",
    "print(X_train.shape, y_train.shape, X_test.shape, y_test.shape)"
   ]
  },
  {
   "cell_type": "code",
   "execution_count": 13,
   "metadata": {},
   "outputs": [
    {
     "name": "stdout",
     "output_type": "stream",
     "text": [
      "(751, 7, 1) (751, 1, 1)\n"
     ]
    }
   ],
   "source": [
    "def label_windows(x, horizon = 1):\n",
    "    return x[:, :-horizon], x[:, -horizon:]\n",
    "\n",
    "def make_windows(x, window_size = 7, horizon = 1):\n",
    "    window_step = np.expand_dims(np.arange(window_size + horizon), axis = 0)\n",
    "    window_indexes = window_step + np.expand_dims(np.arange(len(x) - (window_size + horizon - 1)), axis = 0).T\n",
    "    windowed_array = x[window_indexes]\n",
    "    windows, labels = label_windows(windowed_array)\n",
    "    return windows, labels\n",
    "\n",
    "full_windows, full_labels = make_windows(prices, window_size = 7, horizon = 1)\n",
    "print(full_windows.shape, full_labels.shape)\n",
    "\n",
    "def split_windows(windows, labels):\n",
    "    test_split = int(0.8 * len(windows))\n",
    "    train_windows, train_labels = windows[:test_split], labels[:test_split]\n",
    "    test_windows, test_labels = windows[test_split:], labels[test_split:]\n",
    "    return train_windows, train_labels, test_windows, test_labels\n",
    "\n",
    "train_windows, train_labels, test_windows, test_labels = split_windows(full_windows, full_labels)"
   ]
  },
  {
   "cell_type": "code",
   "execution_count": null,
   "metadata": {},
   "outputs": [],
   "source": []
  }
 ],
 "metadata": {
  "kernelspec": {
   "display_name": "Python 3.8.10 64-bit (windows store)",
   "language": "python",
   "name": "python3"
  },
  "language_info": {
   "codemirror_mode": {
    "name": "ipython",
    "version": 3
   },
   "file_extension": ".py",
   "mimetype": "text/x-python",
   "name": "python",
   "nbconvert_exporter": "python",
   "pygments_lexer": "ipython3",
   "version": "3.8.10"
  },
  "orig_nbformat": 4,
  "vscode": {
   "interpreter": {
    "hash": "6a59ad10282044ba139a76322f59578aecb1e0d4b83bc460c41dd698a2df07c1"
   }
  }
 },
 "nbformat": 4,
 "nbformat_minor": 2
}
