{
 "cells": [
  {
   "cell_type": "code",
   "execution_count": 18,
   "metadata": {},
   "outputs": [],
   "source": [
    "import tensorflow as tf\n",
    "import pandas as pd\n",
    "import numpy as np\n",
    "import matplotlib.pyplot as plt\n",
    "import os"
   ]
  },
  {
   "cell_type": "code",
   "execution_count": 2,
   "metadata": {},
   "outputs": [
    {
     "data": {
      "text/html": [
       "<div>\n",
       "<style scoped>\n",
       "    .dataframe tbody tr th:only-of-type {\n",
       "        vertical-align: middle;\n",
       "    }\n",
       "\n",
       "    .dataframe tbody tr th {\n",
       "        vertical-align: top;\n",
       "    }\n",
       "\n",
       "    .dataframe thead th {\n",
       "        text-align: right;\n",
       "    }\n",
       "</style>\n",
       "<table border=\"1\" class=\"dataframe\">\n",
       "  <thead>\n",
       "    <tr style=\"text-align: right;\">\n",
       "      <th></th>\n",
       "      <th>unix</th>\n",
       "      <th>symbol</th>\n",
       "      <th>open</th>\n",
       "      <th>high</th>\n",
       "      <th>low</th>\n",
       "      <th>close</th>\n",
       "      <th>Volume 1INCH</th>\n",
       "      <th>Volume USD</th>\n",
       "    </tr>\n",
       "    <tr>\n",
       "      <th>date</th>\n",
       "      <th></th>\n",
       "      <th></th>\n",
       "      <th></th>\n",
       "      <th></th>\n",
       "      <th></th>\n",
       "      <th></th>\n",
       "      <th></th>\n",
       "      <th></th>\n",
       "    </tr>\n",
       "  </thead>\n",
       "  <tbody>\n",
       "    <tr>\n",
       "      <th>2022-04-27 00:00:00</th>\n",
       "      <td>1651017600000</td>\n",
       "      <td>1INCH/USD</td>\n",
       "      <td>1.2871</td>\n",
       "      <td>1.2932</td>\n",
       "      <td>1.2865</td>\n",
       "      <td>1.2888</td>\n",
       "      <td>428.840257</td>\n",
       "      <td>552.689323</td>\n",
       "    </tr>\n",
       "    <tr>\n",
       "      <th>2022-04-26 23:00:00</th>\n",
       "      <td>1651014000000</td>\n",
       "      <td>1INCH/USD</td>\n",
       "      <td>1.2968</td>\n",
       "      <td>1.2970</td>\n",
       "      <td>1.2589</td>\n",
       "      <td>1.2871</td>\n",
       "      <td>1189.529669</td>\n",
       "      <td>1531.043637</td>\n",
       "    </tr>\n",
       "    <tr>\n",
       "      <th>2022-04-26 22:00:00</th>\n",
       "      <td>1651010400000</td>\n",
       "      <td>1INCH/USD</td>\n",
       "      <td>1.3093</td>\n",
       "      <td>1.3124</td>\n",
       "      <td>1.2961</td>\n",
       "      <td>1.2968</td>\n",
       "      <td>1281.291941</td>\n",
       "      <td>1661.579389</td>\n",
       "    </tr>\n",
       "    <tr>\n",
       "      <th>2022-04-26 21:00:00</th>\n",
       "      <td>1651006800000</td>\n",
       "      <td>1INCH/USD</td>\n",
       "      <td>1.2981</td>\n",
       "      <td>1.3116</td>\n",
       "      <td>1.2959</td>\n",
       "      <td>1.3093</td>\n",
       "      <td>2868.856831</td>\n",
       "      <td>3756.194249</td>\n",
       "    </tr>\n",
       "    <tr>\n",
       "      <th>2022-04-26 20:00:00</th>\n",
       "      <td>1651003200000</td>\n",
       "      <td>1INCH/USD</td>\n",
       "      <td>1.3053</td>\n",
       "      <td>1.3095</td>\n",
       "      <td>1.2900</td>\n",
       "      <td>1.2981</td>\n",
       "      <td>2084.128819</td>\n",
       "      <td>2705.407620</td>\n",
       "    </tr>\n",
       "  </tbody>\n",
       "</table>\n",
       "</div>"
      ],
      "text/plain": [
       "                              unix     symbol    open    high     low   close  \\\n",
       "date                                                                            \n",
       "2022-04-27 00:00:00  1651017600000  1INCH/USD  1.2871  1.2932  1.2865  1.2888   \n",
       "2022-04-26 23:00:00  1651014000000  1INCH/USD  1.2968  1.2970  1.2589  1.2871   \n",
       "2022-04-26 22:00:00  1651010400000  1INCH/USD  1.3093  1.3124  1.2961  1.2968   \n",
       "2022-04-26 21:00:00  1651006800000  1INCH/USD  1.2981  1.3116  1.2959  1.3093   \n",
       "2022-04-26 20:00:00  1651003200000  1INCH/USD  1.3053  1.3095  1.2900  1.2981   \n",
       "\n",
       "                     Volume 1INCH   Volume USD  \n",
       "date                                            \n",
       "2022-04-27 00:00:00    428.840257   552.689323  \n",
       "2022-04-26 23:00:00   1189.529669  1531.043637  \n",
       "2022-04-26 22:00:00   1281.291941  1661.579389  \n",
       "2022-04-26 21:00:00   2868.856831  3756.194249  \n",
       "2022-04-26 20:00:00   2084.128819  2705.407620  "
      ]
     },
     "execution_count": 2,
     "metadata": {},
     "output_type": "execute_result"
    }
   ],
   "source": [
    "df = pd.read_csv(\"Gemini_1INCHUSD_1h.csv\")\n",
    "df.index = pd.to_datetime(df.index)\n",
    "df.set_index('date', inplace = True)\n",
    "df.head(n=5)"
   ]
  },
  {
   "cell_type": "code",
   "execution_count": 4,
   "metadata": {},
   "outputs": [
    {
     "name": "stdout",
     "output_type": "stream",
     "text": [
      "1572 1572 393 393\n"
     ]
    }
   ],
   "source": [
    "timesteps = df.index.to_numpy()\n",
    "volume_usd = df['Volume 1INCH'].to_numpy()\n",
    "\n",
    "split_size = int(0.8 * len(volume_usd))\n",
    "\n",
    "X_train, y_train = timesteps[:split_size], volume_usd[:split_size]\n",
    "X_test, y_test = timesteps[split_size:], volume_usd[split_size:]\n",
    "\n",
    "def split_train_test(timesteps, prices, train_size):\n",
    "    split_size = int(0.8 * len(prices))\n",
    "\n",
    "    X_train, y_train = timesteps[:split_size], prices[:split_size]\n",
    "    X_test, y_test = timesteps[split_size:], prices[split_size:]\n",
    "    return X_train, y_train, X_test, y_test\n",
    "\n",
    "X_train, y_train, X_test, y_test = split_train_test(timesteps, volume_usd, 0.8)\n",
    "print(len(X_train), len(y_train), len(X_test), len(y_test))"
   ]
  },
  {
   "cell_type": "code",
   "execution_count": 25,
   "metadata": {},
   "outputs": [
    {
     "name": "stdout",
     "output_type": "stream",
     "text": [
      "Window: [  428.840257  1189.529669  1281.291941  2868.856831  2084.128819\n",
      " 12134.329536   460.162917] Labels: [2447.070851]\n",
      "Window: [ 1189.529669  1281.291941  2868.856831  2084.128819 12134.329536\n",
      "   460.162917  2447.070851] Labels: [1160.667932]\n",
      "Window: [ 1281.291941  2868.856831  2084.128819 12134.329536   460.162917\n",
      "  2447.070851  1160.667932] Labels: [53402.885216]\n",
      "Train Windows: 1566 and Train Labels: 1566\n",
      "Test Windows: 392 and Test Labels: 392\n"
     ]
    }
   ],
   "source": [
    "def get_labelled_windows(x, horizon = 1):\n",
    "    return x[:, :-horizon], x[:, -horizon:]\n",
    "\n",
    "def make_windows(x, window_size = 7, horizon = 1):\n",
    "    window_step = np.expand_dims(np.arange(window_size + horizon), axis = 0)\n",
    "    window_indexes = window_step + np.expand_dims(np.arange(len(x) - (window_size + horizon - 1)), axis = 0).T\n",
    "    windowed_array = x[window_indexes]\n",
    "    windows, labels = get_labelled_windows(windowed_array, horizon = 1)\n",
    "    return windows, labels\n",
    "\n",
    "full_windows, full_labels = make_windows(volume_usd, window_size = 7, horizon = 1)\n",
    "\n",
    "for i in range(3):\n",
    "    print(\"Window: {}\".format(full_windows[i]), \"Labels: {}\".format(full_labels[i]))\n",
    "\n",
    "train_labels, train_windows, test_labels, test_windows = split_train_test(full_labels, full_windows, 0.8)\n",
    "print(\"Train Windows: {} and Train Labels: {}\".format(len(train_windows), len(train_labels)))\n",
    "print(\"Test Windows: {} and Test Labels: {}\".format(len(test_windows), len(test_labels)))"
   ]
  },
  {
   "cell_type": "code",
   "execution_count": 27,
   "metadata": {},
   "outputs": [
    {
     "name": "stdout",
     "output_type": "stream",
     "text": [
      "INFO:tensorflow:Assets written to: model_lstm\\model_experiments\\assets\n",
      "INFO:tensorflow:Assets written to: model_lstm\\model_experiments\\assets\n",
      "INFO:tensorflow:Assets written to: model_lstm\\model_experiments\\assets\n",
      "INFO:tensorflow:Assets written to: model_lstm\\model_experiments\\assets\n",
      "INFO:tensorflow:Assets written to: model_lstm\\model_experiments\\assets\n",
      "INFO:tensorflow:Assets written to: model_lstm\\model_experiments\\assets\n",
      "INFO:tensorflow:Assets written to: model_lstm\\model_experiments\\assets\n"
     ]
    },
    {
     "data": {
      "text/plain": [
       "<tensorflow.python.keras.callbacks.History at 0x17e1114d3a0>"
      ]
     },
     "execution_count": 27,
     "metadata": {},
     "output_type": "execute_result"
    }
   ],
   "source": [
    "def get_callbacks(model_name, path = \"model_experiments\"):\n",
    "    return tf.keras.callbacks.ModelCheckpoint(filepath = os.path.join(model_name, path), \n",
    "    save_best_only = True, verbose = 0)\n",
    "\n",
    "WINDOW_SIZE, HORIZON = 7, 1\n",
    "\n",
    "inputs = tf.keras.layers.Input(shape = (WINDOW_SIZE))\n",
    "x = tf.keras.layers.Lambda(lambda x: tf.expand_dims(x, axis = 1))(inputs)\n",
    "x = tf.keras.layers.LSTM(128, activation = 'relu', return_sequences = True)(x)\n",
    "x = tf.keras.layers.LSTM(128, activation = 'relu')(x)\n",
    "x = tf.keras.layers.Dense(32, activation = 'relu')(x)\n",
    "outputs= tf.keras.layers.Dense(HORIZON)(x)\n",
    "model_lstm = tf.keras.Model(inputs = inputs, outputs = outputs, name = \"model_lstm\")\n",
    "\n",
    "model_lstm.compile(loss = tf.keras.losses.MeanAbsoluteError(),\n",
    "optimizer = tf.keras.optimizers.Adam())\n",
    "\n",
    "model_lstm.fit(train_windows, train_labels, epochs = 50, verbose = 0, batch_size = 128,\n",
    "validation_data = (test_windows, test_labels), callbacks = [get_callbacks(model_name = model_lstm.name)])"
   ]
  },
  {
   "cell_type": "code",
   "execution_count": 28,
   "metadata": {},
   "outputs": [
    {
     "name": "stdout",
     "output_type": "stream",
     "text": [
      "13/13 [==============================] - 0s 997us/step - loss: 1084.7080\n"
     ]
    },
    {
     "data": {
      "text/plain": [
       "1084.7080078125"
      ]
     },
     "execution_count": 28,
     "metadata": {},
     "output_type": "execute_result"
    }
   ],
   "source": [
    "model_lstm_1 = tf.keras.models.load_model('model_experiments/model_lstm')\n",
    "model_lstm_1.evaluate(test_windows, test_labels)"
   ]
  },
  {
   "cell_type": "code",
   "execution_count": 30,
   "metadata": {},
   "outputs": [],
   "source": [
    "def make_preds(model, input_data):\n",
    "  forecast = model.predict(input_data)\n",
    "  return tf.squeeze(forecast)\n",
    "\n",
    "model_lstm_preds = make_preds(model_lstm, test_windows)\n",
    "model_lstm_preds[:10]\n",
    "\n",
    "model_lstm_preds = np.array(model_lstm_preds)"
   ]
  },
  {
   "cell_type": "code",
   "execution_count": 33,
   "metadata": {},
   "outputs": [
    {
     "data": {
      "text/plain": [
       "<matplotlib.legend.Legend at 0x17e18266d00>"
      ]
     },
     "execution_count": 33,
     "metadata": {},
     "output_type": "execute_result"
    },
    {
     "data": {
      "image/png": "[encoded data removed]",
      "text/plain": [
       "<Figure size 936x432 with 1 Axes>"
      ]
     },
     "metadata": {
      "needs_background": "light"
     },
     "output_type": "display_data"
    }
   ],
   "source": [
    "fig, ax = plt.subplots(figsize = (13, 6))\n",
    "ax.plot(X_test[1:], model_lstm_preds, label = \"Predictions\")\n",
    "ax.plot(X_test[2:], y_test[2:], label = \"Testing Data\")\n",
    "ax.legend()"
   ]
  }
 ],
 "metadata": {
  "interpreter": {
   "hash": "6a59ad10282044ba139a76322f59578aecb1e0d4b83bc460c41dd698a2df07c1"
  },
  "kernelspec": {
   "display_name": "Python 3.8.10 64-bit (windows store)",
   "language": "python",
   "name": "python3"
  },
  "language_info": {
   "codemirror_mode": {
    "name": "ipython",
    "version": 3
   },
   "file_extension": ".py",
   "mimetype": "text/x-python",
   "name": "python",
   "nbconvert_exporter": "python",
   "pygments_lexer": "ipython3",
   "version": "3.8.10"
  },
  "orig_nbformat": 4
 },
 "nbformat": 4,
 "nbformat_minor": 2
}
